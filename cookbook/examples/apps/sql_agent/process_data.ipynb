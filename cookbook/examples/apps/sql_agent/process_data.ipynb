{
 "cells": [
  {
   "cell_type": "code",
   "execution_count": 2,
   "metadata": {},
   "outputs": [
    {
     "name": "stdout",
     "output_type": "stream",
     "text": [
      "hello world\n"
     ]
    }
   ],
   "source": [
    "print('hello world')"
   ]
  },
  {
   "cell_type": "code",
   "execution_count": 3,
   "metadata": {},
   "outputs": [
    {
     "name": "stdout",
     "output_type": "stream",
     "text": [
      "                        Date        Open        High         Low       Close  \\\n",
      "0  2023-04-26 00:00:00-04:00  161.431992  163.629828  161.174593  162.125000   \n",
      "1  2023-04-27 00:00:00-04:00  163.540724  166.877073  163.540724  166.728577   \n",
      "2  2023-04-28 00:00:00-04:00  166.807779  168.154202  166.203869  167.985886   \n",
      "3  2023-05-01 00:00:00-04:00  167.589902  168.748219  166.956293  167.896805   \n",
      "4  2023-05-02 00:00:00-04:00  168.391797  168.649211  165.867253  166.857269   \n",
      "\n",
      "     Volume  Dividends  Stock Splits Ticker  \n",
      "0  45498800        0.0           0.0   AAPL  \n",
      "1  64902300        0.0           0.0   AAPL  \n",
      "2  55209200        0.0           0.0   AAPL  \n",
      "3  52472900        0.0           0.0   AAPL  \n",
      "4  48425700        0.0           0.0   AAPL  \n"
     ]
    }
   ],
   "source": [
    "import pandas as pd\n",
    "\n",
    "# đọc file csv  \n",
    "df = pd.read_csv(r'D:\\agent_sql\\agno\\cookbook\\examples\\apps\\sql_agent\\data\\datacu.csv')\n",
    "# in ra 5 dòng đầu tiên\n",
    "print(df.head())\n"
   ]
  },
  {
   "cell_type": "code",
   "execution_count": 4,
   "metadata": {},
   "outputs": [
    {
     "name": "stdout",
     "output_type": "stream",
     "text": [
      "                        Date        Open        High         Low       Close  \\\n",
      "0  2023-04-26 00:00:00-04:00  161.431992  163.629828  161.174593  162.125000   \n",
      "1  2023-04-27 00:00:00-04:00  163.540724  166.877073  163.540724  166.728577   \n",
      "2  2023-04-28 00:00:00-04:00  166.807779  168.154202  166.203869  167.985886   \n",
      "3  2023-05-01 00:00:00-04:00  167.589902  168.748219  166.956293  167.896805   \n",
      "4  2023-05-02 00:00:00-04:00  168.391797  168.649211  165.867253  166.857269   \n",
      "\n",
      "     Volume  Dividends  Stock Splits Ticker  \n",
      "0  45498800        0.0           0.0   AAPL  \n",
      "1  64902300        0.0           0.0   AAPL  \n",
      "2  55209200        0.0           0.0   AAPL  \n",
      "3  52472900        0.0           0.0   AAPL  \n",
      "4  48425700        0.0           0.0   AAPL  \n",
      "Date             object\n",
      "Open            float64\n",
      "High            float64\n",
      "Low             float64\n",
      "Close           float64\n",
      "Volume            int64\n",
      "Dividends       float64\n",
      "Stock Splits    float64\n",
      "Ticker           object\n",
      "dtype: object\n"
     ]
    }
   ],
   "source": [
    "# Kiểm tra kết quả\n",
    "print(df.head())\n",
    "print(df.dtypes)"
   ]
  },
  {
   "cell_type": "code",
   "execution_count": 5,
   "metadata": {},
   "outputs": [],
   "source": [
    "# Chuyển cột Date thành datetime và bỏ timezone\n",
    "df['Date'] = pd.to_datetime(df['Date'], utc=True).dt.tz_convert(None)\n",
    "df['Date'] = pd.to_datetime(df['Date']).dt.date\n",
    "\n"
   ]
  },
  {
   "cell_type": "code",
   "execution_count": 6,
   "metadata": {},
   "outputs": [
    {
     "name": "stdout",
     "output_type": "stream",
     "text": [
      "Date             object\n",
      "Open            float64\n",
      "High            float64\n",
      "Low             float64\n",
      "Close           float64\n",
      "Volume            int64\n",
      "Dividends       float64\n",
      "Stock Splits    float64\n",
      "Ticker           object\n",
      "dtype: object\n",
      "         Date        Open        High         Low       Close    Volume  \\\n",
      "0  2023-04-26  161.431992  163.629828  161.174593  162.125000  45498800   \n",
      "1  2023-04-27  163.540724  166.877073  163.540724  166.728577  64902300   \n",
      "2  2023-04-28  166.807779  168.154202  166.203869  167.985886  55209200   \n",
      "3  2023-05-01  167.589902  168.748219  166.956293  167.896805  52472900   \n",
      "4  2023-05-02  168.391797  168.649211  165.867253  166.857269  48425700   \n",
      "\n",
      "   Dividends  Stock Splits Ticker  \n",
      "0        0.0           0.0   AAPL  \n",
      "1        0.0           0.0   AAPL  \n",
      "2        0.0           0.0   AAPL  \n",
      "3        0.0           0.0   AAPL  \n",
      "4        0.0           0.0   AAPL  \n"
     ]
    }
   ],
   "source": [
    "# Kiểm tra lại kiểu dữ liệu\n",
    "print(df.dtypes)\n",
    "# Kiểm tra lại dữ liệu\n",
    "print(df.head())\n"
   ]
  },
  {
   "cell_type": "code",
   "execution_count": 7,
   "metadata": {},
   "outputs": [
    {
     "name": "stdout",
     "output_type": "stream",
     "text": [
      "             Date       Close\n",
      "10765  2024-03-15  413.264893\n"
     ]
    }
   ],
   "source": [
    "from datetime import date\n",
    "result = df[(df['Ticker'] == 'MSFT') & (df['Date'] == date(2024, 3, 15))]\n",
    "print(result[['Date', 'Close']])\n"
   ]
  },
  {
   "cell_type": "code",
   "execution_count": 8,
   "metadata": {},
   "outputs": [],
   "source": [
    "# lưu lại file \n",
    "df.to_csv(r'D:\\agent_sql\\agno\\cookbook\\examples\\apps\\sql_agent\\data\\djia_prices_20250426.csv', index=False)"
   ]
  }
 ],
 "metadata": {
  "kernelspec": {
   "display_name": ".venv",
   "language": "python",
   "name": "python3"
  },
  "language_info": {
   "codemirror_mode": {
    "name": "ipython",
    "version": 3
   },
   "file_extension": ".py",
   "mimetype": "text/x-python",
   "name": "python",
   "nbconvert_exporter": "python",
   "pygments_lexer": "ipython3",
   "version": "3.12.5"
  }
 },
 "nbformat": 4,
 "nbformat_minor": 2
}
